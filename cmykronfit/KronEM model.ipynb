{
 "cells": [
  {
   "cell_type": "code",
   "execution_count": null,
   "metadata": {},
   "outputs": [],
   "source": [
    "# 源码"
   ]
  },
  {
   "cell_type": "code",
   "execution_count": null,
   "metadata": {},
   "outputs": [],
   "source": [
    "# %load train_kronnc.py\n",
    "# random del 15 个nodes  email.txt\n",
    "import torch\n",
    "import pickle\n",
    "import random\n",
    "import numpy as np\n",
    "import networkx as nx \n",
    "from networkx.convert import from_dict_of_dicts\n",
    "from networkx.classes.graph import Graph\n",
    "# from kronEM import *\n",
    "seed =1900\n",
    "np.random.seed(seed)\n",
    "random.seed(seed)"
   ]
  },
  {
   "cell_type": "code",
   "execution_count": 2,
   "metadata": {},
   "outputs": [
    {
     "data": {
      "text/plain": [
       "<torch._C.Generator at 0x7fbf9a7c6d50>"
      ]
     },
     "execution_count": 2,
     "metadata": {},
     "output_type": "execute_result"
    }
   ],
   "source": [
    "# generate partial obseved data\n",
    "\n",
    "import torch \n",
    "import torch.nn as nn\n",
    "from torch.nn.parameter import Parameter \n",
    "import torch.optim as optim\n",
    "# set seed \n",
    "seed = 1322\n",
    "torch.manual_seed(seed)"
   ]
  },
  {
   "cell_type": "code",
   "execution_count": 3,
   "metadata": {},
   "outputs": [],
   "source": [
    "def kronecker(A,B):\n",
    "    return torch.einsum(\"ab,cd->acbd\", A, B).view(A.size(0)*B.size(0),  A.size(1)*B.size(1))\n",
    "def partial_mask(sz,del_num):\n",
    "    '''mask the known part and un know part'''\n",
    "    kn_mask = torch.zeros(sz,sz)\n",
    "    kn_mask[:-del_num,:-del_num] = 1\n",
    "    \n",
    "    un_un_mask = torch.zeros(sz,sz)\n",
    "    un_un_mask[-del_num:,-del_num:] = 1\n",
    "    un_un_mask = un_un_mask - torch.diag(torch.diag(un_un_mask))\n",
    "    \n",
    "    left_mask = torch.ones(sz,sz)\n",
    "    left_mask[:-del_num,:-del_num] = 0\n",
    "    left_mask = left_mask-torch.diag(torch.diag(left_mask))\n",
    "    kn_un_mask = left_mask - un_un_mask\n",
    "    \n",
    "    return kn_mask,left_mask,un_un_mask,kn_un_mask\n",
    "\n",
    "\n",
    "class kronecker_Generator(nn.Module):\n",
    "    def __init__(self,korder = 3,node_num = 2):\n",
    "        super(kronecker_Generator,self).__init__()\n",
    "        self.p = Parameter(torch.rand(node_num,node_num,requires_grad=True))\n",
    "        self.korder = korder\n",
    "        # print(self.p)\n",
    "    def generator_adjacency(self):\n",
    "        k = self.korder\n",
    "        p0 = self.p\n",
    "        adj = self.p\n",
    "        for i in range(k-1):\n",
    "            adj = kronecker(adj,p0)\n",
    "        return adj"
   ]
  },
  {
   "cell_type": "code",
   "execution_count": 4,
   "metadata": {},
   "outputs": [],
   "source": [
    "# toy train data  generator \n",
    "p = torch.FloatTensor([[0.9,0.7],[0.5, 0.3]])\n",
    "k = 4\n",
    "ground_adj = p\n",
    "\n",
    "# 删除0.25比例的节点 origin: we randomly removed 25% of the nodes and the corresponding edges.\n",
    "sz = 2**4\n",
    "remove_proportion = 0.25\n",
    "del_num = int(sz*remove_proportion)\n",
    "\n",
    "for i in range(k-1):\n",
    "    ground_adj = kronecker(ground_adj,p)\n",
    "\n",
    "Ground_truth_adj = (ground_adj>torch.rand((ground_adj.shape))).float()\n",
    "sigma=Ground_truth_adj\n",
    "\n",
    "kn_mask,left_mask,un_un_mask,kn_un_mask = partial_mask(sz,del_num)\n",
    "known_adj =  kn_mask*Ground_truth_adj\n",
    "\n",
    "missing_edges = int((left_mask*Ground_truth_adj).sum())\n",
    "\n",
    "# initial partial z with fixed missing edges num\n",
    "z_element_num = int(left_mask.sum())\n",
    "z_element_shuffle = torch.randperm(z_element_num)\n",
    "z_element_choice = z_element_shuffle[:missing_edges]\n",
    "z_element_left = z_element_shuffle[missing_edges:] \n",
    "z_element = torch.nonzero(left_mask)\n",
    "init_z_edges = torch.index_select(z_element,0,z_element_choice)\n",
    "init_z_nonedges = torch.index_select(z_element,0,z_element_left)\n",
    "init_z_adj = torch.zeros([16,16])\n",
    "for (i,j) in init_z_edges:\n",
    "  init_z_adj[i][j] = 1"
   ]
  },
  {
   "cell_type": "code",
   "execution_count": 5,
   "metadata": {},
   "outputs": [],
   "source": [
    "generator = kronecker_Generator(4,2)\n",
    "Pk = generator.generator_adjacency()"
   ]
  },
  {
   "cell_type": "code",
   "execution_count": null,
   "metadata": {},
   "outputs": [],
   "source": [
    "RunEStep()\n",
    "RunEStep(GibbsWarmUp, WarmUp, NSamples, LLV, DLLV)\n",
    "\n"
   ]
  },
  {
   "cell_type": "code",
   "execution_count": null,
   "metadata": {},
   "outputs": [],
   "source": [
    "# missing edges \n",
    "# main 函数\n",
    "\n",
    "MissEdges = NMissing;\n",
    "\n",
    "\n",
    "// KronEM\n",
    "void TKroneckerLL::RunKronEM(const int& EMIter, const int& GradIter, double LrnRate, double MnStep, double MxStep, const int& GibbsWarmUp, const int& WarmUp, const int& NSamples, const TKronEMType& Type, const int& NMissing) {\n",
    "\tprintf(\"\\n----------------------------------------------------------------------\\n\");\n",
    "\tprintf(\"Fitting graph on %d nodes, %d edges\\n\", int(RealNodes), int(RealEdges));\n",
    "\tprintf(\"Kron iters:  %d (== %d nodes)\\n\\n\", KronIters(), ProbMtx.GetNodes(KronIters()));\n",
    "\n",
    "\tTFltV LLV(NSamples);\n",
    "\tTVec<TFltV> DLLV(NSamples);\n",
    "\t//int count = 0;\n",
    "\n",
    "\tEMType = Type;\n",
    "\tMissEdges = NMissing;\n",
    "\tAppendIsoNodes();\n",
    "    \n",
    "    \n",
    "\tSetRndPerm();\n",
    "\tfor(int i = 0; i < EMIter; i++) {\n",
    "\t\tprintf(\"\\n----------------------------------------------------------------------\\n\");\n",
    "\t\tprintf(\"%03d EM-iter] E-Step\\n\", i+1);\n",
    "\t\tRunEStep(GibbsWarmUp, WarmUp, NSamples, LLV, DLLV);\n",
    "\t\tprintf(\"\\n\\n\");\n",
    "\n",
    "\t\tprintf(\"%03d EM-iter] M-Step\\n\", i+1);\n",
    "\t\tdouble CurLL = RunMStep(LLV, DLLV, GradIter, LrnRate, MnStep, MxStep);\n",
    "\t\tprintf(\"\\n\\n\");\n",
    "\n",
    "\t\tif(DebugMode) {\n",
    "\t\t\tLLV.Add(CurLL);\n",
    "\t\t\tMtxV.Add(ProbMtx);\n",
    "\t\t}\n",
    "\t}\n",
    "\n",
    "\tRestoreGraph();\n",
    "}"
   ]
  }
 ],
 "metadata": {
  "kernelspec": {
   "display_name": "torch03",
   "language": "python",
   "name": "torch03"
  },
  "language_info": {
   "codemirror_mode": {
    "name": "ipython",
    "version": 3
   },
   "file_extension": ".py",
   "mimetype": "text/x-python",
   "name": "python",
   "nbconvert_exporter": "python",
   "pygments_lexer": "ipython3",
   "version": "3.7.5"
  }
 },
 "nbformat": 4,
 "nbformat_minor": 2
}
