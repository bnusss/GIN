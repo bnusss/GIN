{
 "cells": [
  {
   "cell_type": "code",
   "execution_count": 1,
   "metadata": {},
   "outputs": [],
   "source": [
    "# %load train_kronnc.py\n",
    "# random del 15 个nodes  email.txt\n",
    "import torch\n",
    "import pickle\n",
    "import random\n",
    "import numpy as np\n",
    "import networkx as nx \n",
    "from networkx.convert import from_dict_of_dicts\n",
    "from networkx.classes.graph import Graph\n",
    "from kronEM import *\n",
    "seed =1900\n",
    "np.random.seed(seed)\n",
    "random.seed(seed)\n",
    "\n",
    "adj_address =\"/data/chenmy/voter/seed1051email128-adjmat.pickle\"\n",
    "with open(adj_address,'rb') as f:\n",
    "    objective_adj = pickle.load(f,encoding='latin1')\n",
    "objective_adj = np.array(objective_adj)"
   ]
  },
  {
   "cell_type": "code",
   "execution_count": 2,
   "metadata": {},
   "outputs": [
    {
     "name": "stdout",
     "output_type": "stream",
     "text": [
      "miss nodes  tensor([26])\n",
      "0.0\n"
     ]
    }
   ],
   "source": [
    "Ground_truth_adj = torch.FloatTensor(objective_adj)\n",
    "sz = Ground_truth_adj.shape[0]\n",
    "k = int(np.log2(sz))\n",
    "remove_proportion = 0.01\n",
    "del_num = int(sz*remove_proportion)\n",
    "mask_un_obs,mask_obs,miss_idx = missing_label(sz,remove_proportion)\n",
    "G = Ground_truth_adj*mask_obs\n",
    "nG = G.data.numpy()\n",
    "H = G.clone()\n",
    "# print(2,(abs(H.data.numpy()-objective_adj)*mask_obs.data.numpy()).sum())\n",
    "init_z = Ground_truth_adj*mask_un_obs\n",
    "missing_edges = int(init_z.sum())\n",
    "print(\"miss nodes \",miss_idx)\n",
    "# initial partial z with fixed missing edges num\n",
    "z_ele_num = int(mask_un_obs.sum())\n",
    "z_element_choice = torch.randperm(z_ele_num)[:missing_edges]\n",
    "z_element = torch.nonzero(mask_un_obs)\n",
    "init_z_edges = torch.index_select(z_element,0,z_element_choice)\n",
    "H[init_z_edges[:,0],init_z_edges[:,1]] = 1\n",
    "# print(abs((H - Ground_truth_adj)*mask_obs).sum())\n",
    "# print(G,H,z_element_choice)\n",
    "# initial kronecker\n",
    "p0 = torch.FloatTensor([[0.9,0.7],[0.7, 0.3]])#torch.FloatTensor([[0.4408, 0.1770],[0.4951, 0.2585]])  # \n",
    "generator = kronecker_Generator(p0,k,2)\n",
    "Pk = generator.generator_adjacency()\n",
    "init_H = H.data.numpy()\n",
    "label_non_obs = mask_un_obs.data.numpy()\n",
    "init_Pk = Pk.detach().data.numpy()\n",
    "perm = np.arange(sz)\n",
    "print(abs((init_H- objective_adj)*mask_obs.data.numpy()).sum())\n",
    "init_label_non_obs= label_non_obs.copy()"
   ]
  },
  {
   "cell_type": "code",
   "execution_count": 3,
   "metadata": {},
   "outputs": [],
   "source": [
    "# %load kronEM.py\n",
    "import torch\n",
    "import torch.nn as nn\n",
    "from torch.nn.parameter import Parameter\n",
    "import torch.optim as optim\n",
    "from sklearn.metrics import roc_curve,auc\n",
    "import matplotlib.pyplot as plt\n",
    "from sklearn.metrics import roc_curve,auc\n",
    "import numpy as np\n",
    "\n",
    "def kronecker(A,B):\n",
    "    return torch.einsum(\"ab,cd->acbd\", A, B).view(A.size(0)*B.size(0),  A.size(1)*B.size(1))\n",
    "class kronecker_Generator(nn.Module):\n",
    "    def __init__(self,p0,korder = 3,node_num = 2):\n",
    "        super(kronecker_Generator,self).__init__()\n",
    "        self.p = Parameter(p0,requires_grad = True)\n",
    "        # self.p = Parameter(torch.rand(node_num,node_num,requires_grad=True))\n",
    "        self.korder = korder\n",
    "        # print(self.p)\n",
    "    def generator_adjacency(self):\n",
    "        k = self.korder\n",
    "        p0 = self.p\n",
    "        adj = self.p\n",
    "        for i in range(k-1):\n",
    "            adj = kronecker(adj,p0)\n",
    "        return adj\n",
    "def loss_func(sigma,Pk):\n",
    "    loss = -torch.sum((1-sigma)*torch.log(1-Pk)+sigma*torch.log(Pk))\n",
    "    return loss\n",
    "def metropolis_update_ratio(sigma_before,sigma_later,Pk):\n",
    "    '''\n",
    "    if memory is sufficinet, this one is much cleaner to execute\n",
    "    '''\n",
    "    Nll_before=(1-sigma_before)*np.log(1-Pk) +sigma_before*np.log(Pk)\n",
    "    Nll_later=(1-sigma_later)*np.log(1-Pk) +sigma_later*np.log(Pk)\n",
    "    ratio=np.exp(np.sum(Nll_later-Nll_before))\n",
    "    return ratio\n",
    "def SwapElement(sigma_before,i,j):\n",
    "    i_topology=sigma_before[i,:]\n",
    "    j_topology=sigma_before[j,:]\n",
    "    sigma_later=np.copy(sigma_before)\n",
    "    sigma_later[i,:]=j_topology\n",
    "    sigma_later[j,:]=i_topology\n",
    "    sigma_later[:,i]=sigma_before[:,j]\n",
    "    sigma_later[:,j]=sigma_before[:,i]\n",
    "    sigma_later[i,j]=sigma_before[i,j]\n",
    "    sigma_later[j,i]=sigma_before[j,i]\n",
    "    sigma_later[i,i]=sigma_before[j,j]\n",
    "    sigma_later[j,j]=sigma_before[i,i]\n",
    "    return sigma_later\n",
    "\n",
    "def SamplePermutation(Pk,sigma,u,n1_swap,n2_swap,label_non_obs,obj_adj):\n",
    "    sigma_later=SwapElement(sigma,n1_swap, n2_swap)\n",
    "    ratio=metropolis_update_ratio(sigma,sigma_later,Pk)\n",
    "    if u<ratio:\n",
    "        sigma=sigma_later\n",
    "        label_non_obs=SwapElement(label_non_obs,n1_swap, n2_swap)\n",
    "        obj_adj = SwapElement(obj_adj,n1_swap,n2_swap)\n",
    "#         print(ifswap)\n",
    "    return sigma,label_non_obs,obj_adj\n",
    "def SampleZ(H,Pk,label_non_obs,u):\n",
    "    mat_size=len(Pk)\n",
    "    edge_in_non_obs=H>0*label_non_obs  \n",
    "    edge_position=np.where(edge_in_non_obs)\n",
    "    edge_removed=np.random.randint(len(edge_position[0]))\n",
    "    px=Pk[edge_position[0][edge_removed],edge_position[1][edge_removed]]\n",
    "    non_edge_in_non_obs=H<1*label_non_obs\n",
    "    ##return \n",
    "    py_array=non_edge_in_non_obs*Pk\n",
    "    py_array=np.ravel(py_array)\n",
    "    py=np.random.choice(range(len(py_array)), size=1, p=py_array/np.sum(py_array))\n",
    "    ratio=(1-py_array[py])/(1-px)\n",
    "    if ratio<u:\n",
    "        H[py//mat_size,py%mat_size]=1\n",
    "        H[edge_position[0][edge_removed],edge_position[1][edge_removed]]=0\n",
    "        # print('accept')\n",
    "    return H\n",
    "\n",
    "def missing_label(sz,missing_percent):\n",
    "     # random sample\n",
    "    missing_num = int(sz*missing_percent)\n",
    "    idx = torch.randperm(sz)[:missing_num]\n",
    "    mask_un_obs = torch.zeros(sz,sz)\n",
    "    for i in idx:\n",
    "        mask_un_obs[i] = 1\n",
    "        mask_un_obs[:,i:i+1] = 1\n",
    "    mask_obs = 1- mask_un_obs\n",
    "    return mask_un_obs,mask_obs,idx\n",
    "# only sigma and kronecker pk are itered\n",
    "def E_step(sigma,N,warmup,Pk,label_non_obs,obj_adj):\n",
    "    u1=np.random.rand(N+warmup)\n",
    "    u2=np.random.rand(N+warmup)\n",
    "    sigma_hist=[]\n",
    "    Z_label=[]\n",
    "    Node_list=np.arange(len(Pk))\n",
    "    element_to_swap=np.random.choice(a=Node_list,size=(2,3*(N+warmup)))\n",
    "    mask=element_to_swap[1,:]!=element_to_swap[0,:]# it is pointless to swap the same element\n",
    "    n1_swap=element_to_swap[0,:][mask]\n",
    "    n2_swap=element_to_swap[1,:][mask]\n",
    "   \n",
    "    for i in range(N+warmup):\n",
    "        # if i%100==0:\n",
    "        #     print(\"E_step\",i,round(i/(N+warmup),4))\n",
    "        sigma=SampleZ(sigma,Pk,label_non_obs,u1[i]) # sigma shuffle后的adj\n",
    "        # print(\"n1,n2\",n1_swap,n2_swap,mask)\n",
    "        sigma,label_non_obs,obj_adj=SamplePermutation(Pk,sigma,u2[i],n1_swap[i],n2_swap[i],label_non_obs,obj_adj)\n",
    "#         if ifswap:\n",
    "#             perm[n1_swap[i]],perm[n2_swap[i]] = perm[n2_swap[i]],perm[n1_swap[i]]\n",
    "#             print(ifswap,n1_swap[i],n2_swap[i],perm)\n",
    "        if i>=warmup:\n",
    "            sigma_hist.append(sigma)\n",
    "            Z_label.append(label_non_obs)\n",
    "    return sigma_hist,Z_label,obj_adj #（H+G）\n",
    "\n",
    "def M_step(epoch,sigma_train,p0,k,N):\n",
    "    losses = []\n",
    "    generator = kronecker_Generator(p0,k,2)\n",
    "    learning_rate = 1e-5#0.0000001\n",
    "    opt_net = optim.SGD(generator.parameters(),lr = learning_rate)\n",
    "    decayRate = 0.95\n",
    "\n",
    "    scheduler = torch.optim.lr_scheduler.ExponentialLR(optimizer=opt_net, gamma=decayRate) \n",
    "    for i in range(epoch):   \n",
    "        opt_net.zero_grad()\n",
    "        Pk = generator.generator_adjacency()\n",
    "        loss = loss_func(sigma_train,Pk,N)\n",
    "        loss2 = loss2_func(sigma_train.detach().numpy(),Pk.detach().numpy(),N)\n",
    "        loss.backward()\n",
    "        losses.append(loss.item())\n",
    "        # print(str(i),loss.item(),loss2.item(),(loss2-loss).item())\n",
    "        opt_net.step()\n",
    "        scheduler.step()\n",
    "        for group in opt_net.param_groups:\n",
    "            for param in group[\"params\"]: \n",
    "              # print(\"before param\",param)\n",
    "              param.data.clamp_(0.0001,0.9999)\n",
    "              # print(\"after param\",param)\n",
    "    \n",
    "        for p in generator.parameters():\n",
    "            p0 = p.data  \n",
    "        generator = kronecker_Generator(p0,k,2)\n",
    "        Pk = generator.generator_adjacency()\n",
    "        Pk = Pk.detach().numpy() \n",
    "        # evaluation\n",
    "        #   nll infer  nll true\n",
    "    return np.mean(losses),Pk,p0\n",
    "\n",
    "def kronEM(iterstep,N,warmup,H,Pk,label_non_obs,epoch,p0,obj_adj,k):\n",
    "    emlosses = []\n",
    "    for i in range(iterstep):\n",
    "        print(\"start iterstep\",i)\n",
    "        sigma_hist,Z_label,obj_adj = E_step(H,N,warmup,Pk,label_non_obs,obj_adj)\n",
    "        print(\"E-step\")\n",
    "        H = sigma_hist[-1]\n",
    "        label_non_obs = Z_label[-1]\n",
    "        sigma_hist_train = np.array(sigma_hist)\n",
    "        sigma_train = torch.DoubleTensor(sigma_hist_train)\n",
    "        emloss,Pk,p0 = M_step(epoch,sigma_train,p0,k,N)\n",
    "        emlosses.append(emloss)\n",
    "        print(\"*************\\n EM loss is %f\"%emloss,\"p0 is \",p0)\n",
    "        \n",
    "        # evaluation\n",
    "        inferp_nll = NLL(H,Pk)\n",
    "        print(\"inferp_nll is %f \"%(inferp_nll))\n",
    "        obs_mask = (1-label_non_obs).astype(bool)\n",
    "        obs_auc = calauc(H,Pk,obs_mask)\n",
    "        non_obs_auc = calauc(H,Pk,label_non_obs.astype(bool))\n",
    "        #         print(\"perm is \", perm)\n",
    "        \n",
    "        label_obs = (1-label_non_obs)\n",
    "        obs_diff_edge = abs((H - obj_adj)*label_obs).sum()\n",
    "        unobs_diff_edge =  abs((H - obj_adj)*label_non_obs).sum()\n",
    "        all_diff_edge = abs((H - obj_adj)).sum()\n",
    "        # D_abs = torch.abs(orip-p0).mean()\n",
    "        print(\"infer p is \",p0,  \"obseved auc  is %f and non_obs auc is %f and obs_diff_edge is %f and un_obs_diff_edge %f and all_diff_edge is %f\"%(obs_auc,non_obs_auc,obs_diff_edge,unobs_diff_edge,all_diff_edge))\n",
    "    \n",
    "    return emlosses,perm,H\n",
    "\n",
    "def NLL(sigma_true,pk):\n",
    "  Nll_before=(1-sigma_true)*np.log(1-pk) +sigma_true*np.log(pk)\n",
    "  return -np.sum(Nll_before)\n",
    "\n",
    "def loss2_func(sigma_train,Pk,N):\n",
    "  loss2 = 0\n",
    "  for i in range(N):\n",
    "    loss2+= NLL(sigma_train[i],Pk)\n",
    "    # print(loss2)\n",
    "  return loss2/N\n",
    "\n",
    "def loss_func(sigma,Pk,N):\n",
    "    loss = -torch.sum((1-sigma)*torch.log(1-Pk)+sigma*torch.log(Pk))\n",
    "    return loss/N\n",
    "\n",
    "def generator_adj(korder,p):\n",
    "    k = korder\n",
    "    p0 = p\n",
    "    adj = p\n",
    "    for i in range(k-1):\n",
    "        adj = kronecker(adj,p0)\n",
    "    return adj\n",
    "def calauc(H,Pk,mask):\n",
    "    fpr, tpr, thresholds = roc_curve(H[mask],Pk[mask])\n",
    "    Auc = auc(fpr, tpr)\n",
    "    return Auc"
   ]
  },
  {
   "cell_type": "code",
   "execution_count": 5,
   "metadata": {},
   "outputs": [
    {
     "name": "stdout",
     "output_type": "stream",
     "text": [
      "start iterstep 0\n",
      "E-step\n",
      "*************\n",
      " EM loss is 4294.654173 p0 is  tensor([[0.8968, 0.7043],\n",
      "        [0.7044, 0.3365]])\n",
      "inferp_nll is 4282.497070 \n"
     ]
    },
    {
     "ename": "NameError",
     "evalue": "name 'shuffle_obj_adj' is not defined",
     "output_type": "error",
     "traceback": [
      "\u001b[0;31m---------------------------------------------------------------------------\u001b[0m",
      "\u001b[0;31mNameError\u001b[0m                                 Traceback (most recent call last)",
      "\u001b[0;32m<ipython-input-5-0c38334a4a4c>\u001b[0m in \u001b[0;36m<module>\u001b[0;34m\u001b[0m\n\u001b[1;32m      3\u001b[0m \u001b[0miterstep\u001b[0m \u001b[0;34m=\u001b[0m \u001b[0;36m100\u001b[0m\u001b[0;34m\u001b[0m\u001b[0;34m\u001b[0m\u001b[0m\n\u001b[1;32m      4\u001b[0m \u001b[0mepoch\u001b[0m \u001b[0;34m=\u001b[0m \u001b[0;36m10\u001b[0m\u001b[0;34m\u001b[0m\u001b[0;34m\u001b[0m\u001b[0m\n\u001b[0;32m----> 5\u001b[0;31m \u001b[0memlosses2\u001b[0m\u001b[0;34m,\u001b[0m\u001b[0mperm2\u001b[0m\u001b[0;34m,\u001b[0m\u001b[0mH\u001b[0m \u001b[0;34m=\u001b[0m \u001b[0mkronEM\u001b[0m\u001b[0;34m(\u001b[0m\u001b[0miterstep\u001b[0m\u001b[0;34m,\u001b[0m\u001b[0mN\u001b[0m\u001b[0;34m,\u001b[0m\u001b[0mwarmup\u001b[0m\u001b[0;34m,\u001b[0m\u001b[0minit_H\u001b[0m\u001b[0;34m,\u001b[0m\u001b[0minit_Pk\u001b[0m\u001b[0;34m,\u001b[0m\u001b[0mlabel_non_obs\u001b[0m\u001b[0;34m,\u001b[0m\u001b[0mepoch\u001b[0m\u001b[0;34m,\u001b[0m\u001b[0mp0\u001b[0m\u001b[0;34m,\u001b[0m\u001b[0mobjective_adj\u001b[0m\u001b[0;34m,\u001b[0m\u001b[0mk\u001b[0m\u001b[0;34m)\u001b[0m\u001b[0;34m\u001b[0m\u001b[0;34m\u001b[0m\u001b[0m\n\u001b[0m",
      "\u001b[0;32m<ipython-input-3-d2dacb6bbfdd>\u001b[0m in \u001b[0;36mkronEM\u001b[0;34m(iterstep, N, warmup, H, Pk, label_non_obs, epoch, p0, obj_adj, k)\u001b[0m\n\u001b[1;32m    170\u001b[0m \u001b[0;34m\u001b[0m\u001b[0m\n\u001b[1;32m    171\u001b[0m         \u001b[0mlabel_obs\u001b[0m \u001b[0;34m=\u001b[0m \u001b[0;34m(\u001b[0m\u001b[0;36m1\u001b[0m\u001b[0;34m-\u001b[0m\u001b[0mlabel_non_obs\u001b[0m\u001b[0;34m)\u001b[0m\u001b[0;34m\u001b[0m\u001b[0;34m\u001b[0m\u001b[0m\n\u001b[0;32m--> 172\u001b[0;31m         \u001b[0mobs_diff_edge\u001b[0m \u001b[0;34m=\u001b[0m \u001b[0mabs\u001b[0m\u001b[0;34m(\u001b[0m\u001b[0;34m(\u001b[0m\u001b[0mH\u001b[0m \u001b[0;34m-\u001b[0m \u001b[0mshuffle_obj_adj\u001b[0m\u001b[0;34m)\u001b[0m\u001b[0;34m*\u001b[0m\u001b[0mlabel_obs\u001b[0m\u001b[0;34m)\u001b[0m\u001b[0;34m.\u001b[0m\u001b[0msum\u001b[0m\u001b[0;34m(\u001b[0m\u001b[0;34m)\u001b[0m\u001b[0;34m\u001b[0m\u001b[0;34m\u001b[0m\u001b[0m\n\u001b[0m\u001b[1;32m    173\u001b[0m         \u001b[0munobs_diff_edge\u001b[0m \u001b[0;34m=\u001b[0m  \u001b[0mabs\u001b[0m\u001b[0;34m(\u001b[0m\u001b[0;34m(\u001b[0m\u001b[0mH\u001b[0m \u001b[0;34m-\u001b[0m \u001b[0mshuffle_obj_adj\u001b[0m\u001b[0;34m)\u001b[0m\u001b[0;34m*\u001b[0m\u001b[0mlabel_non_obs\u001b[0m\u001b[0;34m)\u001b[0m\u001b[0;34m.\u001b[0m\u001b[0msum\u001b[0m\u001b[0;34m(\u001b[0m\u001b[0;34m)\u001b[0m\u001b[0;34m\u001b[0m\u001b[0;34m\u001b[0m\u001b[0m\n\u001b[1;32m    174\u001b[0m         \u001b[0mall_diff_edge\u001b[0m \u001b[0;34m=\u001b[0m \u001b[0mabs\u001b[0m\u001b[0;34m(\u001b[0m\u001b[0;34m(\u001b[0m\u001b[0mH\u001b[0m \u001b[0;34m-\u001b[0m \u001b[0mshuffle_obj_adj\u001b[0m\u001b[0;34m)\u001b[0m\u001b[0;34m)\u001b[0m\u001b[0;34m.\u001b[0m\u001b[0msum\u001b[0m\u001b[0;34m(\u001b[0m\u001b[0;34m)\u001b[0m\u001b[0;34m\u001b[0m\u001b[0;34m\u001b[0m\u001b[0m\n",
      "\u001b[0;31mNameError\u001b[0m: name 'shuffle_obj_adj' is not defined"
     ]
    }
   ],
   "source": [
    "warmup=10\n",
    "N = 1 \n",
    "iterstep = 100\n",
    "epoch = 10\n",
    "emlosses2,perm2,H = kronEM(iterstep,N,warmup,init_H,init_Pk,label_non_obs,epoch,p0,objective_adj,k)"
   ]
  },
  {
   "cell_type": "code",
   "execution_count": 20,
   "metadata": {},
   "outputs": [
    {
     "data": {
      "text/plain": [
       "0.0"
      ]
     },
     "execution_count": 20,
     "metadata": {},
     "output_type": "execute_result"
    }
   ],
   "source": []
  },
  {
   "cell_type": "code",
   "execution_count": 13,
   "metadata": {},
   "outputs": [
    {
     "data": {
      "text/plain": [
       "array([  0,   1,   2,   3,   4,   5,   6,   7,   8,   9,  10,  11,  12,\n",
       "        13,  14,  15,  16,  17,  18,  19,  20,  21,  85,  23,  24,  25,\n",
       "        26,  27,  28,  29,  30,  31,  32,  33,  34,  35,  36,  65,  38,\n",
       "        39,  40,  41,  42,  43,  44,  45,  46,  47,  48,  49,  50,  51,\n",
       "        52,  53,  54,  55,  56,  57,  58,  59,  60,  61,  62,  63,  64,\n",
       "        37,  66,  67,  68,  69,  70,  71,  72,  73,  74,  75,  76,  77,\n",
       "        78,  79,  80,  81,  82,  83,  84,  22,  86,  87,  88,  89,  90,\n",
       "        91,  92,  93,  94,  95,  96,  97,  98,  99, 100, 101, 102, 103,\n",
       "       104, 105, 106, 107, 108, 109, 110, 111, 112, 113, 114, 115, 116,\n",
       "       117, 118, 119, 120, 121, 122, 123, 124, 125, 126, 127])"
      ]
     },
     "execution_count": 13,
     "metadata": {},
     "output_type": "execute_result"
    }
   ],
   "source": [
    "perm"
   ]
  },
  {
   "cell_type": "code",
   "execution_count": 16,
   "metadata": {},
   "outputs": [],
   "source": [
    "permutation_mat  = np.eye(H.shape[0])[perm]\n",
    "shuffle_H = np.dot(np.dot(permutation_mat,objective_adj),permutation_mat.T)"
   ]
  },
  {
   "cell_type": "code",
   "execution_count": 10,
   "metadata": {},
   "outputs": [],
   "source": [
    "sigma_later1=SwapElement(init_H,37,65)"
   ]
  },
  {
   "cell_type": "code",
   "execution_count": 8,
   "metadata": {},
   "outputs": [],
   "source": [
    "sigma_later=SwapElement(sigma_later,22,85)"
   ]
  },
  {
   "cell_type": "code",
   "execution_count": 12,
   "metadata": {},
   "outputs": [
    {
     "data": {
      "text/plain": [
       "68.0"
      ]
     },
     "execution_count": 12,
     "metadata": {},
     "output_type": "execute_result"
    }
   ],
   "source": [
    "(abs(sigma_later1-H)*mask_obs.data.numpy()).sum()"
   ]
  },
  {
   "cell_type": "code",
   "execution_count": 18,
   "metadata": {},
   "outputs": [
    {
     "data": {
      "text/plain": [
       "0.0"
      ]
     },
     "execution_count": 18,
     "metadata": {},
     "output_type": "execute_result"
    }
   ],
   "source": [
    "(abs(shuffle_H-H)*mask_obs.data.numpy()).sum()"
   ]
  },
  {
   "cell_type": "code",
   "execution_count": null,
   "metadata": {},
   "outputs": [],
   "source": []
  }
 ],
 "metadata": {
  "kernelspec": {
   "display_name": "torch03",
   "language": "python",
   "name": "torch03"
  },
  "language_info": {
   "codemirror_mode": {
    "name": "ipython",
    "version": 3
   },
   "file_extension": ".py",
   "mimetype": "text/x-python",
   "name": "python",
   "nbconvert_exporter": "python",
   "pygments_lexer": "ipython3",
   "version": "3.7.5"
  }
 },
 "nbformat": 4,
 "nbformat_minor": 2
}
