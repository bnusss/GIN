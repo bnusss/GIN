{
 "cells": [
  {
   "cell_type": "code",
   "execution_count": null,
   "metadata": {},
   "outputs": [],
   "source": [
    "# 源码\n",
    "https://github.com/snap-stanford/snap/blob/master/examples/kronem/kronem.cpp"
   ]
  },
  {
   "cell_type": "code",
   "execution_count": null,
   "metadata": {},
   "outputs": [],
   "source": [
    "# KronLL.RunKronEM(EMIter, GradIter, LrnRate, MnStep, MxStep, WarmUp, WarmUp, NSamples);\n",
    "# input\n",
    " -n0:Initiator matrix size (default:2)\n",
    "   -m:Init Gradient Descent Matrix (R=random) (default:'0.9 0.7; 0.5 0.2')\n",
    "   -gi:Gradient descent iterations for M-step (default:5)\n",
    "   -ei:EM iterations (default:30)\n",
    "   -l:Learning rate (default:1e-05)\n",
    "   -mns:Minimum gradient step for M-step (default:0.001)\n",
    "   -mxs:Maximum gradient step for M-step (default:0.008)\n",
    "   -w:Samples for MCMC warm-up (default:5000)\n",
    "   -s:Samples per gradient estimation (default:1500)\n",
    "   -sim:Scale the initiator to match the number of edges (default:'F')\n",
    "\n",
    "\n"
   ]
  },
  {
   "cell_type": "code",
   "execution_count": null,
   "metadata": {},
   "outputs": [],
   "source": [
    "# initial Z 部分\n",
    "\n",
    "\n",
    "\n",
    "\n",
    "\n"
   ]
  },
  {
   "cell_type": "code",
   "execution_count": null,
   "metadata": {},
   "outputs": [],
   "source": [
    "RunEStep()\n",
    "\n",
    "\n",
    "RunEStep(GibbsWarmUp, WarmUp, NSamples, LLV, DLLV)\n",
    "\n"
   ]
  },
  {
   "cell_type": "code",
   "execution_count": null,
   "metadata": {},
   "outputs": [],
   "source": [
    "# missing edges \n",
    "# main 函数\n",
    "\n",
    "MissEdges = NMissing;\n",
    "\n",
    "\n",
    "// KronEM\n",
    "void TKroneckerLL::RunKronEM(const int& EMIter, const int& GradIter, double LrnRate, double MnStep, double MxStep, const int& GibbsWarmUp, const int& WarmUp, const int& NSamples, const TKronEMType& Type, const int& NMissing) {\n",
    "\tprintf(\"\\n----------------------------------------------------------------------\\n\");\n",
    "\tprintf(\"Fitting graph on %d nodes, %d edges\\n\", int(RealNodes), int(RealEdges));\n",
    "\tprintf(\"Kron iters:  %d (== %d nodes)\\n\\n\", KronIters(), ProbMtx.GetNodes(KronIters()));\n",
    "\n",
    "\tTFltV LLV(NSamples);\n",
    "\tTVec<TFltV> DLLV(NSamples);\n",
    "\t//int count = 0;\n",
    "\n",
    "\tEMType = Type;\n",
    "\tMissEdges = NMissing;\n",
    "\tAppendIsoNodes();\n",
    "    \n",
    "    \n",
    "\tSetRndPerm();\n",
    "\tfor(int i = 0; i < EMIter; i++) {\n",
    "\t\tprintf(\"\\n----------------------------------------------------------------------\\n\");\n",
    "\t\tprintf(\"%03d EM-iter] E-Step\\n\", i+1);\n",
    "\t\tRunEStep(GibbsWarmUp, WarmUp, NSamples, LLV, DLLV);\n",
    "\t\tprintf(\"\\n\\n\");\n",
    "\n",
    "\t\tprintf(\"%03d EM-iter] M-Step\\n\", i+1);\n",
    "\t\tdouble CurLL = RunMStep(LLV, DLLV, GradIter, LrnRate, MnStep, MxStep);\n",
    "\t\tprintf(\"\\n\\n\");\n",
    "\n",
    "\t\tif(DebugMode) {\n",
    "\t\t\tLLV.Add(CurLL);\n",
    "\t\t\tMtxV.Add(ProbMtx);\n",
    "\t\t}\n",
    "\t}\n",
    "\n",
    "\tRestoreGraph();\n",
    "}"
   ]
  }
 ],
 "metadata": {
  "kernelspec": {
   "display_name": "torch03",
   "language": "python",
   "name": "torch03"
  },
  "language_info": {
   "codemirror_mode": {
    "name": "ipython",
    "version": 3
   },
   "file_extension": ".py",
   "mimetype": "text/x-python",
   "name": "python",
   "nbconvert_exporter": "python",
   "pygments_lexer": "ipython3",
   "version": "3.7.5"
  }
 },
 "nbformat": 4,
 "nbformat_minor": 2
}
