{
 "cells": [
  {
   "cell_type": "code",
   "execution_count": 4,
   "metadata": {},
   "outputs": [
    {
     "ename": "ModuleNotFoundError",
     "evalue": "No module named 'torch'",
     "output_type": "error",
     "traceback": [
      "\u001b[0;31m---------------------------------------------------------------------------\u001b[0m",
      "\u001b[0;31mModuleNotFoundError\u001b[0m                       Traceback (most recent call last)",
      "\u001b[0;32m<ipython-input-4-86b012914bd5>\u001b[0m in \u001b[0;36m<module>\u001b[0;34m()\u001b[0m\n\u001b[1;32m      1\u001b[0m \u001b[0;31m# random del 15 个nodes  email.txt\u001b[0m\u001b[0;34m\u001b[0m\u001b[0;34m\u001b[0m\u001b[0m\n\u001b[0;32m----> 2\u001b[0;31m \u001b[0;32mimport\u001b[0m \u001b[0mtorch\u001b[0m\u001b[0;34m\u001b[0m\u001b[0m\n\u001b[0m\u001b[1;32m      3\u001b[0m \u001b[0;32mimport\u001b[0m \u001b[0mpickle\u001b[0m\u001b[0;34m\u001b[0m\u001b[0m\n\u001b[1;32m      4\u001b[0m \u001b[0;32mimport\u001b[0m \u001b[0mrandom\u001b[0m\u001b[0;34m\u001b[0m\u001b[0m\n\u001b[1;32m      5\u001b[0m \u001b[0;32mimport\u001b[0m \u001b[0mnumpy\u001b[0m \u001b[0;32mas\u001b[0m \u001b[0mnp\u001b[0m\u001b[0;34m\u001b[0m\u001b[0m\n",
      "\u001b[0;31mModuleNotFoundError\u001b[0m: No module named 'torch'"
     ]
    }
   ],
   "source": [
    "# random del 15 个nodes  email.txt\n",
    "import torch\n",
    "import pickle\n",
    "import random\n",
    "import numpy as np\n",
    "import networkx as nx \n",
    "from networkx.convert import from_dict_of_dicts\n",
    "from networkx.classes.graph import Graph\n",
    "from kronEM import *\n",
    "seed =1900\n",
    "np.random.seed(seed)\n",
    "random.seed(seed)\n",
    "\n",
    "adj_address =\"/data/chenmy/voter/seed1051email128-adjmat.pickle\"\n",
    "with open(adj_address,'rb') as f:\n",
    "    objective_adj = pickle.load(f,encoding='latin1')\n",
    "print(objective_adj)\n",
    "\n",
    "\n",
    "Ground_truth_adj = torch.FloatTensor(objective_adj)\n",
    "sz = Ground_truth_adj.shape[0]\n",
    "k = int(np.log2(sz))\n",
    "remove_proportion = 0.01\n",
    "del_num = int(sz*remove_proportion)\n",
    "mask_un_obs,mask_obs,miss_idx = missing_label(sz,remove_proportion)\n",
    "G = Ground_truth_adj*mask_obs\n",
    "nG = G.data.numpy()\n",
    "print((objective_adj -Ground_truth_adj.data.numpy()).sum(0))\n",
    "\n",
    "# print(-1,(abs(nG-)).sum())\n",
    "print(0,abs((nG-objective_adj)*mask_obs.data.numpy()).sum())\n",
    "# print(abs(G-Ground_truth_adj).sum(0)*mask_obs.sum(0))\n",
    "# print(1,abs(G*mask_obs.data.numpy()-G.data.numpy()).sum())\n",
    "H = G.clone()\n",
    "# print(2,(abs(H.data.numpy()-objective_adj)*mask_obs.data.numpy()).sum())\n",
    "init_z = Ground_truth_adj*mask_un_obs\n",
    "missing_edges = int(init_z.sum())\n",
    "print(\"miss nodes \",miss_idx)\n",
    "# initial partial z with fixed missing edges num\n",
    "z_ele_num = int(mask_un_obs.sum())\n",
    "z_element_choice = torch.randperm(z_ele_num)[:missing_edges]\n",
    "z_element = torch.nonzero(mask_un_obs)\n",
    "init_z_edges = torch.index_select(z_element,0,z_element_choice)\n",
    "# print((abs(objective_adj-Ground_truth_adj.data.numpy())*mask_obs.data.numpy()).sum())\n",
    "H[init_z_edges[:,0],init_z_edges[:,1]] = 1\n",
    "# print(abs((H - Ground_truth_adj)*mask_obs).sum())\n",
    "# print(G,H,z_element_choice)\n",
    "# initial kronecker\n",
    "p0 = torch.FloatTensor([[0.9,0.7],[0.7, 0.3]])#torch.FloatTensor([[0.4408, 0.1770],[0.4951, 0.2585]])  # \n",
    "generator = kronecker_Generator(p0,k,2)\n",
    "Pk = generator.generator_adjacency()\n",
    "init_H = H.data.numpy()\n",
    "label_non_obs = mask_un_obs.data.numpy()\n",
    "init_Pk = Pk.detach().data.numpy()\n",
    "perm = np.arange(sz)"
   ]
  },
  {
   "cell_type": "code",
   "execution_count": null,
   "metadata": {},
   "outputs": [],
   "source": []
  },
  {
   "cell_type": "code",
   "execution_count": null,
   "metadata": {},
   "outputs": [],
   "source": [
    "# print(label_non_obs)\n",
    "# print(abs((init_H- objective_adj)*mask_obs.data.numpy()).sum())\n",
    "\n",
    "warmup=1\n",
    "N = 1 \n",
    "iterstep =1\n",
    "epoch = 3\n",
    "# emlosses2,perm2 = kronEM(iterstep,N,warmup,init_H,init_Pk,label_non_obs,epoch,p0,perm,k,ori_Ground_truth_adj,label_non_obs)\n",
    "\n",
    "\n"
   ]
  }
 ],
 "metadata": {
  "kernelspec": {
   "display_name": "Python 3",
   "language": "python",
   "name": "python3"
  },
  "language_info": {
   "codemirror_mode": {
    "name": "ipython",
    "version": 3
   },
   "file_extension": ".py",
   "mimetype": "text/x-python",
   "name": "python",
   "nbconvert_exporter": "python",
   "pygments_lexer": "ipython3",
   "version": "3.6.5"
  }
 },
 "nbformat": 4,
 "nbformat_minor": 2
}
